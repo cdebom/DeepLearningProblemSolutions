{
  "nbformat": 4,
  "nbformat_minor": 0,
  "metadata": {
    "colab": {
      "name": "gmp-predict-csv.ipynb",
      "version": "0.3.2",
      "provenance": [],
      "collapsed_sections": [],
      "toc_visible": true
    }
  },
  "cells": [
    {
      "metadata": {
        "id": "rYgUW6QCTRA6",
        "colab_type": "code",
        "colab": {}
      },
      "cell_type": "code",
      "source": [
        "#Prediçoes\n",
        "# a) Carregando modelo salvo\n",
        "from keras.models import load_model\n",
        "\n",
        "model = load_model('gmp-cnn_model.h5')"
      ],
      "execution_count": 0,
      "outputs": []
    },
    {
      "metadata": {
        "id": "iDytoqAnUIsd",
        "colab_type": "code",
        "colab": {}
      },
      "cell_type": "code",
      "source": [
        "# b) Datagen para lote de predição\n",
        "from keras.preprocessing.image import ImageDataGenerator\n",
        "\n",
        "datagen = ImageDataGenerator(rescale = 1./255)\n",
        "\n",
        "to_predict = datagen.flow_from_directory(\n",
        "                'dataset1/predict',\n",
        "                target_size = (64, 64),\n",
        "                color_mode = 'rgb',\n",
        "                batch_size = 1,\n",
        "                class_mode = None,\n",
        "                shuffle = False)"
      ],
      "execution_count": 0,
      "outputs": []
    },
    {
      "metadata": {
        "id": "oKMY8F8uovZl",
        "colab_type": "code",
        "colab": {}
      },
      "cell_type": "code",
      "source": [
        "# c) Predições\n",
        "to_predict.reset()\n",
        "\n",
        "from keras.models import Sequential\n",
        "\n",
        "predict = model.predict_generator(to_predict, verbose = 1)"
      ],
      "execution_count": 0,
      "outputs": []
    },
    {
      "metadata": {
        "id": "SzNiMdqWoyJN",
        "colab_type": "code",
        "colab": {}
      },
      "cell_type": "code",
      "source": [
        "# d) Criando CSV com as predições\n",
        "import pandas as pd\n",
        "import numpy as np\n",
        "\n",
        "predicted = np.argmax(predict, axis = 1)\n",
        "\n",
        "labels = (train_set.class_indices)\n",
        "labels - dict((v, k) for k, v in labels.items())\n",
        "\n",
        "predictions = [labels[k] for k in predicted] #lista das predições\n",
        "\n",
        "filenames = to_predict.filenames #lista dos arquivos que foram preditos"
      ],
      "execution_count": 0,
      "outputs": []
    },
    {
      "metadata": {
        "id": "qk-rlU2Ho0Ck",
        "colab_type": "code",
        "colab": {}
      },
      "cell_type": "code",
      "source": [
        "result = pd.DataFrame({'filenames': filenames,\n",
        "                    'prediction': predictions}) #dataframe relacionando os arquivos e as predições\n",
        "results.to_csv('dataset1/predict/test_folder/results.csv', sep = ';') #CSV salvando"
      ],
      "execution_count": 0,
      "outputs": []
    }
  ]
}