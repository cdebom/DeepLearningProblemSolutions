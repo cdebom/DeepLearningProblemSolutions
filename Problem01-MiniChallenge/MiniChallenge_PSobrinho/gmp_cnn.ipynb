{
  "nbformat": 4,
  "nbformat_minor": 0,
  "metadata": {
    "colab": {
      "name": "gmp-cnn.ipynb",
      "version": "0.3.2",
      "provenance": [],
      "collapsed_sections": [],
      "toc_visible": true
    },
    "kernelspec": {
      "name": "python3",
      "display_name": "Python 3"
    },
    "accelerator": "GPU"
  },
  "cells": [
    {
      "metadata": {
        "id": "RThdKkTMyoQ2",
        "colab_type": "code",
        "colab": {
          "base_uri": "https://localhost:8080/",
          "height": 51
        },
        "outputId": "1992bbe9-c1fb-4abc-a9b0-cf551984f071"
      },
      "cell_type": "code",
      "source": [
        "#Fase 1 (dados):\n",
        "\n",
        "#a) Pré-processamento de dados e 'reforço' de dados:\n",
        "\n",
        "from keras.preprocessing.image import ImageDataGenerator\n",
        "\n",
        "train_datagen = ImageDataGenerator(\n",
        "            shear_range = 0.2,\n",
        "            zoom_range = 0.2,\n",
        "            vertical_flip = True,\n",
        "            horizontal_flip = True) #Cria um objeto para 'data augmentation', \n",
        "                                    #basicamente insere alterações aleatórias as \n",
        "                                    #imagens de modo que a rede não vê a mesma imagem duas vezes\n",
        "\n",
        "test_datagen = ImageDataGenerator(rescale = 1./255)\n",
        "\n",
        "train_set = train_datagen.flow_from_directory('drive/CBPF/Iniciação Científica/Formação/Deep Learning/Tasks/1/dataset1/train',\n",
        "                                             target_size = (64, 64),\n",
        "                                             color_mode = 'rgb',                                             \n",
        "                                             classes = ['graduation', 'meeting', 'picnic'],\n",
        "                                             batch_size = 32,\n",
        "                                             class_mode = 'categorical') #Recebe um diretório e caminha por ele\n",
        "                                                                        #com base nos parâmetros fornecidos\n",
        "\n",
        "\n",
        "test_set = test_datagen.flow_from_directory('drive/CBPF/Iniciação Científica/Formação/Deep Learning/Tasks/1/dataset1/test',\n",
        "                                           target_size = (64, 64),\n",
        "                                           color_mode = 'rgb',\n",
        "                                           classes = ['graduation', 'meeting', 'picnic'],\n",
        "                                           batch_size = 32,\n",
        "                                           class_mode = 'categorical')\n"
      ],
      "execution_count": 2,
      "outputs": [
        {
          "output_type": "stream",
          "text": [
            "Found 16789 images belonging to 3 classes.\n",
            "Found 4198 images belonging to 3 classes.\n"
          ],
          "name": "stdout"
        }
      ]
    },
    {
      "metadata": {
        "id": "VsTiFx4lqVmB",
        "colab_type": "code",
        "colab": {}
      },
      "cell_type": "code",
      "source": [
        "#Fase 2 (modelo)\n",
        "\n",
        "#a) Criação do modelo\n",
        "\n",
        "from keras.models import Sequential\n",
        "from keras.layers import Convolution2D, MaxPooling2D\n",
        "from keras.layers import Flatten, Dense\n",
        "\n",
        "model = Sequential()\n",
        "\n",
        "model.add(Convolution2D(filters = 32,\n",
        "                       kernel_size = (5, 5),\n",
        "                       input_shape = (64, 64, 3),\n",
        "                       activation = 'relu')) #Primeira camada convolucional com ativação ReLU\n",
        "model.add(MaxPooling2D(pool_size = (2, 2),\n",
        "                      strides = 2)) #Pooling Layer de passo 2 que divide a dimensão na metade\n",
        "\n",
        "model.add(Convolution2D(filters = 32,\n",
        "                       kernel_size = (5, 5),\n",
        "                       input_shape = (32, 32, 3),\n",
        "                       activation = 'relu'))\n",
        "model.add(MaxPooling2D(pool_size = (2,2),\n",
        "                      strides = 2))\n",
        "\n",
        "model.add(Convolution2D(filters = 64,\n",
        "                       kernel_size = (5, 5),\n",
        "                       input_shape = (16, 16, 3),\n",
        "                       activation = 'relu'))\n",
        "\n",
        "model.add(Flatten()) #Converte para uma dimensão\n",
        "\n",
        "model.add(Dense(activation = 'relu',\n",
        "               units = 16384)) #FC1\n",
        "model.add(Dense(activation = 'relu',\n",
        "               units = 1024)) #FC2\n",
        "model.add(Dense(activation = 'softmax',\n",
        "               units = 3))#FC3\n",
        "\n",
        "#b) Model compile\n",
        "model.compile(optimizer = 'rmsprop',\n",
        "             loss = 'categorical_crossentropy',\n",
        "             metrics = ['accuracy'])"
      ],
      "execution_count": 0,
      "outputs": []
    },
    {
      "metadata": {
        "id": "CuZA3JNxZWWL",
        "colab_type": "code",
        "colab": {}
      },
      "cell_type": "code",
      "source": [
        "#Fase 3 (treino)\n",
        "\n",
        "#a) Treinando o modelo\n",
        "model.fit_generator(train_set,\n",
        "                   steps_per_epoch = 8000,\n",
        "                   epochs = 10,\n",
        "                   validation_data = test_set,\n",
        "                   validation_steps = 2000,\n",
        "                   verbose = 1)"
      ],
      "execution_count": 0,
      "outputs": []
    },
    {
      "metadata": {
        "id": "-P0wrGBDxb5U",
        "colab_type": "code",
        "colab": {}
      },
      "cell_type": "code",
      "source": [
        "#b) Salvando o modelo\n",
        "from keras.models import load_model\n",
        "\n",
        "model.save('drive/CBPF/Iniciação Científica/Formação/Deep Learning/Tasks/1/gmp-cnn_model.h5')"
      ],
      "execution_count": 0,
      "outputs": []
    },
    {
      "metadata": {
        "id": "7YNXiAXYhYLy",
        "colab_type": "code",
        "colab": {}
      },
      "cell_type": "code",
      "source": [
        ""
      ],
      "execution_count": 0,
      "outputs": []
    }
  ]
}