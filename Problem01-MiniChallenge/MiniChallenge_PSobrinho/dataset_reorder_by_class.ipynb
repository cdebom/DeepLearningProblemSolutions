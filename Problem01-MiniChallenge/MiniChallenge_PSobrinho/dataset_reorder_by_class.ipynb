{
  "nbformat": 4,
  "nbformat_minor": 0,
  "metadata": {
    "colab": {
      "name": "dataset_reorder_by_class.ipynb",
      "version": "0.3.2",
      "provenance": [],
      "collapsed_sections": []
    },
    "kernelspec": {
      "display_name": "Python 3",
      "language": "python",
      "name": "python3"
    }
  },
  "cells": [
    {
      "metadata": {
        "id": "zCXfQeRHmSwT",
        "colab_type": "code",
        "colab": {}
      },
      "cell_type": "code",
      "source": [
        "# a) Reorganizar diretório de dados separando amostras de treino e validação de acordo com a classe\n",
        "import pandas as pd\n",
        "import numpy as np\n",
        "from random import shuffle\n",
        "import os #Biblioteca permite a execução de comandos do sistema\n",
        "import shutil #Biblioteca para manipulação de alto nível para diretórios"
      ],
      "execution_count": 0,
      "outputs": []
    },
    {
      "metadata": {
        "id": "1RRPUAkjmSwY",
        "colab_type": "code",
        "colab": {}
      },
      "cell_type": "code",
      "source": [
        "#declarações\n",
        "dataset_dir = 'dataset1/'\n",
        "train_dir = 'dataset1/train/'\n",
        "val_dir = 'dataset1/validation/'\n",
        "\n",
        "dataset = pd.read_csv(dataset_dir+'dataset_images_minitest.csv', sep = ';') #importa arquivo CSV\n",
        "filenames = list(dataset['filename'].values) #cria lista com os elementos da coluna 'filename'\n",
        "labels = list(dataset['category'].values) #cria lista com os elementos da  coluna 'category'\n",
        "class_folders = np.unique(list(dataset['category'].values)) #cria lista com as classes\n",
        "\n",
        "file_label = list(zip(filenames, labels)) #cria lista de tuplas unindo 'filenames' e 'category'\n",
        "shuffle(file_label) #embaralha as tuplas\n",
        "\n",
        "to_train = int(0.8*len(file_label))\n",
        "to_val = len(file_label) - to_train"
      ],
      "execution_count": 0,
      "outputs": []
    },
    {
      "metadata": {
        "id": "F9DZZGiamSwc",
        "colab_type": "code",
        "colab": {}
      },
      "cell_type": "code",
      "source": [
        "#Criando os diretórios 'train'\n",
        "if not os.path.exists(train_dir):\n",
        "    os.mkdir(train_dir)\n",
        "for folder in class_folders:\n",
        "    if not os.path.exists(train_dir+folder):\n",
        "        os.mkdir(train_dir+folder)          "
      ],
      "execution_count": 0,
      "outputs": []
    },
    {
      "metadata": {
        "id": "ANeCZ1kgmSwf",
        "colab_type": "code",
        "colab": {}
      },
      "cell_type": "code",
      "source": [
        "#e 'validation'\n",
        "if not os.path.exists(val_dir):\n",
        "    os.mkdir(val_dir)\n",
        "for folder in class_folders:\n",
        "    if not os.path.exists(val_dir+folder):\n",
        "        os.mkdir(val_dir+folder)"
      ],
      "execution_count": 0,
      "outputs": []
    },
    {
      "metadata": {
        "id": "dzCQ2075mSwj",
        "colab_type": "code",
        "colab": {}
      },
      "cell_type": "code",
      "source": [
        "#Dividindo ~0.8 dos arquivos para 'train'\n",
        "for i in range(len(filenames[0:to_train])):\n",
        "    index = str(i)\n",
        "    train_image = file_label[i][0]\n",
        "    train_label = file_label[i][1]\n",
        "    shutil.copy(os.path.join(dataset_dir, train_image), train_dir+train_label) #move os arquivos    "
      ],
      "execution_count": 0,
      "outputs": []
    },
    {
      "metadata": {
        "id": "oFo12qbsmSwm",
        "colab_type": "code",
        "colab": {}
      },
      "cell_type": "code",
      "source": [
        "# e ~0.2 para 'validation'\n",
        "for j in range(len(filenames[0:to_val])):\n",
        "    index = str(j)\n",
        "    val_image = file_label[to_train+j][0]\n",
        "    val_label = file_label[to_train+j][1]\n",
        "    shutil.copy(os.path.join(dataset_dir, val_image), val_dir+val_label) #move os arquivos    "
      ],
      "execution_count": 0,
      "outputs": []
    },
    {
      "metadata": {
        "id": "ufARxZdumSwp",
        "colab_type": "code",
        "colab": {}
      },
      "cell_type": "code",
      "source": [
        "#renomeando os arquivos de treino (opcional)\n",
        "for class_dir in os.listdir(train_dir):\n",
        "    current_folder = train_dir+class_dir\n",
        "    i = 1\n",
        "    for f in os.listdir(current_folder):\n",
        "        os.rename(os.path.join(current_folder, f), os.path.join(current_folder, class_dir+str(i)))\n",
        "        i = int(i) + 1"
      ],
      "execution_count": 0,
      "outputs": []
    },
    {
      "metadata": {
        "id": "ppiW8qkBmSwt",
        "colab_type": "code",
        "colab": {}
      },
      "cell_type": "code",
      "source": [
        "#renomeando os arquivos de validação (opcional)\n",
        "for class_dir in os.listdir(val_dir):\n",
        "    current_folder = val_dir+class_dir\n",
        "    i = 1\n",
        "    for f in os.listdir(current_folder):\n",
        "        os.rename(os.path.join(current_folder, f), os.path.join(current_folder, class_dir+str(i)))\n",
        "        i = int(i) + 1"
      ],
      "execution_count": 0,
      "outputs": []
    },
    {
      "metadata": {
        "id": "bOQt1mTPmSww",
        "colab_type": "code",
        "colab": {}
      },
      "cell_type": "code",
      "source": [
        ""
      ],
      "execution_count": 0,
      "outputs": []
    }
  ]
}