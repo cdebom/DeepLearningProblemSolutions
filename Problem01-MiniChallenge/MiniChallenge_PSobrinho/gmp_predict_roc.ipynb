{
  "nbformat": 4,
  "nbformat_minor": 0,
  "metadata": {
    "colab": {
      "name": "gmp-predict-roc.ipynb",
      "version": "0.3.2",
      "provenance": [],
      "collapsed_sections": [],
      "toc_visible": true
    }
  },
  "cells": [
    {
      "metadata": {
        "id": "rYgUW6QCTRA6",
        "colab_type": "code",
        "colab": {}
      },
      "cell_type": "code",
      "source": [
        "#Prediçoes e ROC\n",
        "\n",
        "# a) Carregando modelo salvo\n",
        "from keras.models import load_model\n",
        "\n",
        "model = load_model('gmp-cnn_model.h5')"
      ],
      "execution_count": 0,
      "outputs": []
    },
    {
      "metadata": {
        "id": "iDytoqAnUIsd",
        "colab_type": "code",
        "colab": {}
      },
      "cell_type": "code",
      "source": [
        "# b) Datagen para lote de predição\n",
        "from keras.preprocessing.image import ImageDataGenerator\n",
        "\n",
        "test_datagen = ImageDataGenerator(rescale = 1./255)\n",
        "\n",
        "to_predict = test_datagen.flow_from_directory('dataset1/test',\n",
        "                                           target_size = (64, 64),\n",
        "                                           color_mode = 'rgb',\n",
        "                                           classes = ['graduation', 'meeting', 'picnic'],\n",
        "                                           batch_size = 1,\n",
        "                                           class_mode = None,\n",
        "                                           shuffle = False)"
      ],
      "execution_count": 0,
      "outputs": []
    },
    {
      "metadata": {
        "id": "oKMY8F8uovZl",
        "colab_type": "code",
        "colab": {}
      },
      "cell_type": "code",
      "source": [
        "# c) Predições\n",
        "to_predict.reset()\n",
        "\n",
        "from keras.models import Sequential\n",
        "\n",
        "predict = model.predict_generator(to_predict, verbose = 1)"
      ],
      "execution_count": 0,
      "outputs": []
    },
    {
      "metadata": {
        "id": "iEhwcH9k0G9K",
        "colab_type": "code",
        "colab": {}
      },
      "cell_type": "code",
      "source": [
        "#d) ROCurve\n",
        "from sklearn.preprocessing import label_binarize\n",
        "\n",
        "y = label_binarize(to_predict.classes, classes=[0, 1, 2]) #Binariza a classificação do \"teste set\" de acordo\n",
        "                                                          #de acordo com as classes dadas"
      ],
      "execution_count": 0,
      "outputs": []
    },
    {
      "metadata": {
        "id": "7nnjMfw5T0xh",
        "colab_type": "code",
        "colab": {}
      },
      "cell_type": "code",
      "source": [
        "from scipy import interp\n",
        "import numpy as np\n",
        "import matplotlib\n",
        "matplotlib.use('Agg')\n",
        "import matplotlib.pyplot as plt\n",
        "from itertools import cycle\n",
        "from sklearn.metrics import roc_curve, auc\n",
        "\n",
        "classes_number = y.shape[1] #determina a quantidade de classes de acordo com o set binarizado\n",
        "line = 2\n",
        "\n",
        "fpr = dict()\n",
        "tpr = dict()\n",
        "roc_auc = dict()\n",
        "\n",
        "for i in range(classes_number):\n",
        "    fpr[i], tpr[i], _ = roc_curve(y[:, i], predict[:, i])\n",
        "    roc_auc[i] = auc(fpr[i], tpr[i]) #Calcula fpr, tpr e a roc para cada classe\n",
        "\n",
        "fpr[\"micro\"], tpr[\"micro\"], _ = roc_curve(y.ravel(), predict.ravel())\n",
        "roc_auc[\"micro\"] = auc(fpr[\"micro\"], tpr[\"micro\"])\n",
        "\n",
        "all_fpr = np.unique(np.concatenate([fpr[i] for i in range(classes_number)]))\n",
        "\n",
        "mean_tpr = np.zeros_like(all_fpr)\n",
        "\n",
        "for i in range(classes_number):\n",
        "    mean_tpr += interp(all_fpr, fpr[i], tpr[i])\n",
        "mean_tpr /= classes_number\n",
        "\n",
        "fpr[\"macro\"] = all_fpr\n",
        "tpr[\"macro\"] = mean_tpr\n",
        "roc_auc[\"macro\"] = auc(fpr[\"macro\"], tpr[\"macro\"])\n",
        "\n",
        "#plot\n",
        "plt.figure()\n",
        "plt.plot(fpr[\"micro\"], tpr[\"micro\"],\n",
        "         label='micro-average ROC curve (area = {0:0.2f})'\n",
        "               ''.format(roc_auc[\"micro\"]),\n",
        "         color='deeppink', linestyle=':', linewidth=4)\n",
        "\n",
        "plt.plot(fpr[\"macro\"], tpr[\"macro\"],\n",
        "         label='macro-average ROC curve (area = {0:0.2f})'\n",
        "               ''.format(roc_auc[\"macro\"]),\n",
        "         color='navy', linestyle=':', linewidth=4)\n",
        "\n",
        "colors = cycle(['aqua', 'darkorange', 'cornflowerblue'])\n",
        "for i, color in zip(range(classes_number), colors):\n",
        "    plt.plot(fpr[i], tpr[i], color=color, lw=line,\n",
        "             label='ROC curve of class {0} (area = {1:0.2f})'\n",
        "             ''.format(i, roc_auc[i]))\n",
        "\n",
        "plt.plot([0, 1], [0, 1], 'k--', lw=line)\n",
        "plt.xlim([0.0, 1.0])\n",
        "plt.ylim([0.0, 1.05])\n",
        "plt.xlabel('False Positive Rate')\n",
        "plt.ylabel('True Positive Rate')\n",
        "plt.title('GMP Model - Receiver operating characteristic')\n",
        "plt.legend(loc=\"lower right\")\n",
        "plt.savefig('gmp-rocurve.jpg')"
      ],
      "execution_count": 0,
      "outputs": []
    }
  ]
}