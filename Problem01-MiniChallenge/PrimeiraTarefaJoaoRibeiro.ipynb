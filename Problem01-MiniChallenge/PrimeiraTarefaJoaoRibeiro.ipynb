{
 "cells": [
  {
   "cell_type": "code",
   "execution_count": 5,
   "metadata": {},
   "outputs": [],
   "source": [
    "import numpy as np\n",
    "import pandas as pd\n",
    "from sklearn.model_selection import train_test_split\n",
    "from tensorflow.python import keras\n",
    "from tensorflow.python.keras.models import Sequential\n",
    "from tensorflow.python.keras.layers import Dense, Flatten, Conv2D, Dropout, MaxPooling2D, BatchNormalization\n",
    "from keras.preprocessing.image import  ImageDataGenerator\n",
    "\n",
    "from scipy import ndimage, misc\n",
    "\n",
    "from skimage import data, color\n",
    "from skimage.transform import rescale, resize, downscale_local_mean\n",
    "\n",
    "from sklearn.metrics import roc_curve, auc\n",
    "\n",
    "import os\n",
    "import matplotlib.pyplot as plt\n",
    "\n",
    "from keras.utils import to_categorical\n",
    "\n",
    "from random import shuffle"
   ]
  },
  {
   "cell_type": "markdown",
   "metadata": {},
   "source": [
    "PRÉ - PROCESSAMENTO"
   ]
  },
  {
   "cell_type": "code",
   "execution_count": 37,
   "metadata": {},
   "outputs": [],
   "source": [
    "#caminho = os.getcwd()\n",
    "\n",
    "#df = pd.read_csv(caminho +'/dataset_images_minitest.csv', sep='\\t')\n",
    "\n",
    "#dftrain = df.sample(round(len(df)*(0.7)))\n",
    "#dftest = df.drop(dftrain.index)\n",
    "\n",
    "#dftrain.to_csv(caminho +'/train.csv')\n",
    "#dftest.to_csv(caminho +'/test.csv')\n",
    "\n",
    "#file_namestrain = list(dftrain['filename'].values)\n",
    "#img_labelstrain = list(dftrain['category'].values)\n",
    "\n",
    "#file_namestest = list(dftest['filename'].values)\n",
    "#img_labelstest = list(dftest['category'].values)\n",
    "\n",
    "\n",
    "#pastasparacriar = np.unique(img_labelstrain) \n",
    "\n",
    "#for pasta in pastasparacriar:\n",
    " #   if not os.path.exists(caminho +'/data_folder/'+ pasta):\n",
    "  #      os.makedirs(caminho +'/data_folder/'+pasta)\n",
    "\n",
    "#os.makedirs(caminho +'/test') \n",
    "\n",
    "#test\n",
    "#for f in range(len(file_namestest)):\n",
    "#  current_img = file_namestest[f]\n",
    "#  shutil.move(caminho +'/data_folder/' +current_img , caminho+ \"/test\")\n",
    "\n",
    "#train\n",
    "#for f in range(len(file_namestrain)):\n",
    "#  current_img = file_namestrain[f]\n",
    "#  current_label = img_labelstrain[f]\n",
    "#  shutil.move(caminho +'/data_folder/' +current_img , caminho+ '/data_folder/' + current_label)\n",
    "\n",
    "\n"
   ]
  },
  {
   "cell_type": "markdown",
   "metadata": {},
   "source": [
    "Função que embaralha imagens e etiquetas"
   ]
  },
  {
   "cell_type": "code",
   "execution_count": 2,
   "metadata": {},
   "outputs": [],
   "source": [
    "def randomiza(X_test,y_test):\n",
    "\n",
    "    listin=range(0,np.shape(X_test)[0])\n",
    "    baralho=list(listin)\n",
    "    shuffle(baralho)\n",
    "\n",
    "    y_test2=[]\n",
    "    X_test2=[]\n",
    "\n",
    "    for i in baralho:\n",
    "        y_test2.append(y_test[i])\n",
    "        X_test2.append(X_test[i])\n",
    "\n",
    "    y_test2=np.array(y_test2)\n",
    "    X_test2=np.array(X_test2)\n",
    "    \n",
    "    return X_test2,y_test2"
   ]
  },
  {
   "cell_type": "markdown",
   "metadata": {},
   "source": [
    "Uma função que carrega imagens para teste e uma para treino\n",
    "\n",
    "a divisão de ambas veio de uma tentativa de usar data augmentation com flow from directory, por isso a classificação em pastas distintas do treino"
   ]
  },
  {
   "cell_type": "code",
   "execution_count": 3,
   "metadata": {},
   "outputs": [],
   "source": [
    "def carrega_imagens_da_pasta_t(folder):\n",
    "    images = []\n",
    "    y_test=[]\n",
    "    for filename in os.listdir(folder):\n",
    "        img = plt.imread(os.path.join(folder,filename))\n",
    "        imgfim = resize(img,(img_rows,img_cols))\n",
    "        if np.shape(imgfim) == (img_rows,img_cols):\n",
    "            continue\n",
    "            #JOGA FORA AS PRETO E BRANCO\n",
    "            imgfim = np.stack((imgfim, np.zeros((img_rows,img_cols)),np.zeros((img_rows,img_cols))),axis=2)\n",
    "        if imgfim is not None:\n",
    "            images.append(imgfim)\n",
    "        \n",
    "        caminho = os.getcwd()\n",
    "        \n",
    "        preytest = pd.read_csv(caminho + '/test.csv')\n",
    "        \n",
    "        y_test.append(preytest[preytest['filename']==filename]['category'].values[0]) \n",
    "        \n",
    "    return images, y_test\n",
    "\n",
    "def carrega_imagens_da_pasta(folder):\n",
    "    images = []\n",
    "    for filename in os.listdir(folder):\n",
    "        img = plt.imread(os.path.join(folder,filename))\n",
    "        imgfim = resize(img,(img_rows,img_cols))\n",
    "        if np.shape(imgfim) == (img_rows,img_cols):\n",
    "            continue\n",
    "            #JOGA FORA AS PRETO E BRANCO\n",
    "            imgfim = np.stack((imgfim, np.zeros((img_rows,img_cols)),np.zeros((img_rows,img_cols))),axis=2)\n",
    "        if imgfim is not None:\n",
    "            images.append(imgfim)\n",
    "    return images"
   ]
  },
  {
   "cell_type": "markdown",
   "metadata": {},
   "source": [
    "Rotina que constrói X_test, y_test e X_train, y_train"
   ]
  },
  {
   "cell_type": "code",
   "execution_count": 6,
   "metadata": {},
   "outputs": [
    {
     "name": "stderr",
     "output_type": "stream",
     "text": [
      "/anaconda3/lib/python3.6/site-packages/skimage/transform/_warps.py:84: UserWarning: The default mode, 'constant', will be changed to 'reflect' in skimage 0.15.\n",
      "  warn(\"The default mode, 'constant', will be changed to 'reflect' in \"\n"
     ]
    }
   ],
   "source": [
    "img_rows, img_cols = 60, 60\n",
    "num_classes=3\n",
    "\n",
    "caminho = os.getcwd()\n",
    "\n",
    "caminhograd= caminho +'/data_folder/graduation/'\n",
    "caminhopic= caminho + '/data_folder/picnic/'\n",
    "caminhomeeting= caminho + '/data_folder/meeting/'\n",
    "\n",
    "caminhotest= caminho + '/test/'\n",
    "\n",
    "\n",
    "\n",
    "\n",
    "grad =  carrega_imagens_da_pasta(caminhograd)\n",
    "\n",
    "meet = carrega_imagens_da_pasta(caminhomeeting)\n",
    "\n",
    "pic =  carrega_imagens_da_pasta(caminhopic)\n",
    "\n",
    "\n",
    "y_train = len(grad)*[0]+len(meet)*[1]+len(pic)*[2]\n",
    "y_train = to_categorical(y_train)\n",
    "\n",
    "\n",
    "X_train = np.array(grad + meet + pic)\n",
    "\n",
    "X_test , y_test = carrega_imagens_da_pasta_t(caminhotest)\n",
    "\n",
    "X_test = np.array(X_test)\n",
    "\n",
    "\n",
    "\n",
    "lista=[]\n",
    "\n",
    "for i in range(0,len(y_test)):\n",
    "    if y_test[i]=='graduation':\n",
    "        lista.append(0)\n",
    "    if y_test[i]=='meeting':\n",
    "        lista.append(1)\n",
    "    if y_test[i]=='picnic':\n",
    "        lista.append(2)\n",
    "\n",
    "y_test = np.array(y_test)        \n",
    "\n",
    "y_test = to_categorical(lista)\n",
    "\n",
    "X_train2 , y_train2 = randomiza(X_train,y_train)\n",
    "\n",
    "X_test2 , y_test2 = randomiza(X_test,y_test)\n"
   ]
  },
  {
   "cell_type": "markdown",
   "metadata": {},
   "source": [
    "MODELO - CONVOLUCAO - MAXPOOLING, NO FINAL UMA CAMADA DENSA"
   ]
  },
  {
   "cell_type": "code",
   "execution_count": 7,
   "metadata": {},
   "outputs": [],
   "source": [
    "\n",
    "model = Sequential()\n",
    "\n",
    "model.add(Conv2D(100, kernel_size=5,\n",
    "                 activation='relu',\n",
    "                 input_shape=(img_rows, img_cols, 3)))\n",
    "\n",
    "#model.add(MaxPooling2D((2,2)))\n",
    "\n",
    "#model.add(Conv2D(50, kernel_size=5, activation='relu'))\n",
    "\n",
    "model.add(MaxPooling2D((4,4)))\n",
    "\n",
    "model.add(Dropout(0.2))\n",
    "\n",
    "#model.add(BatchNormalization())\n",
    "\n",
    "\n",
    "\n",
    "model.add(Conv2D(50, kernel_size=2, activation='relu'))\n",
    "\n",
    "#model.add(Conv2D(100, kernel_size=2, activation='relu'))\n",
    "\n",
    "model.add(MaxPooling2D(2, 2))\n",
    "\n",
    "model.add(Dropout(0.2))\n",
    "\n",
    "\n",
    "#model.add(Conv2D(100, kernel_size=5, activation='relu'))\n",
    "\n",
    "\n",
    "\n",
    "model.add(Conv2D(50, kernel_size=5, activation='relu'))\n",
    "\n",
    "#model.add(MaxPooling2D((4,4)))\n",
    "\n",
    "model.add(Dropout(0.2))\n",
    "\n",
    "\n",
    "\n",
    "\n",
    "model.add(Flatten())\n",
    "\n",
    "model.add(Dense(200, activation='relu'))\n",
    "\n",
    "model.add(Dropout(0.5))\n",
    "\n",
    "model.add(Dense(3, activation='softmax'))\n",
    "\n",
    "model.compile(loss=keras.losses.categorical_crossentropy,\n",
    "              optimizer='adam',\n",
    "              metrics=['accuracy'])\n",
    "\n",
    "\n"
   ]
  },
  {
   "cell_type": "markdown",
   "metadata": {},
   "source": [
    "TREINANDO O MODELO"
   ]
  },
  {
   "cell_type": "code",
   "execution_count": 9,
   "metadata": {},
   "outputs": [
    {
     "name": "stdout",
     "output_type": "stream",
     "text": [
      "Train on 12473 samples, validate on 2202 samples\n",
      "Epoch 1/5\n",
      "12473/12473 [==============================] - 234s 19ms/step - loss: 1.0298 - acc: 0.4615 - val_loss: 0.9726 - val_acc: 0.5095\n",
      "Epoch 2/5\n",
      "12473/12473 [==============================] - 150s 12ms/step - loss: 0.9460 - acc: 0.5505 - val_loss: 0.9054 - val_acc: 0.5749\n",
      "Epoch 3/5\n",
      "12473/12473 [==============================] - 224s 18ms/step - loss: 0.8899 - acc: 0.5886 - val_loss: 0.8466 - val_acc: 0.6258\n",
      "Epoch 4/5\n",
      "12473/12473 [==============================] - 188s 15ms/step - loss: 0.8613 - acc: 0.6096 - val_loss: 0.8377 - val_acc: 0.6258\n",
      "Epoch 5/5\n",
      "12473/12473 [==============================] - 192s 15ms/step - loss: 0.8376 - acc: 0.6274 - val_loss: 0.8336 - val_acc: 0.6322\n"
     ]
    }
   ],
   "source": [
    "training=model.fit(X_train2,y_train2, validation_split=0.15, batch_size=50, epochs=5)"
   ]
  },
  {
   "cell_type": "markdown",
   "metadata": {},
   "source": [
    "Salvando os pesos"
   ]
  },
  {
   "cell_type": "code",
   "execution_count": 10,
   "metadata": {},
   "outputs": [],
   "source": [
    "model.save_weights('cincoepocas.h5')"
   ]
  },
  {
   "cell_type": "code",
   "execution_count": null,
   "metadata": {},
   "outputs": [],
   "source": [
    "training10 = model.fit(X_train2,y_train2, validation_split=0.15, batch_size=100, epochs=10)"
   ]
  },
  {
   "cell_type": "code",
   "execution_count": 11,
   "metadata": {},
   "outputs": [],
   "source": [
    "history = training.history\n",
    "#history10 = training10.history"
   ]
  },
  {
   "cell_type": "markdown",
   "metadata": {},
   "source": [
    "Evolução da função de loss com o treinamento "
   ]
  },
  {
   "cell_type": "code",
   "execution_count": 12,
   "metadata": {},
   "outputs": [
    {
     "data": {
      "image/png": "[encoded data removed]",
      "text/plain": [
       "<matplotlib.figure.Figure at 0x1c27944b00>"
      ]
     },
     "metadata": {},
     "output_type": "display_data"
    }
   ],
   "source": [
    "plt.plot(history['loss'])\n",
    "plt.plot(history['val_loss'])\n",
    "plt.title('loss e validation loss x épocas de treino - cinco épocas')\n",
    "plt.show()"
   ]
  },
  {
   "cell_type": "code",
   "execution_count": 57,
   "metadata": {},
   "outputs": [
    {
     "data": {
      "image/png": "[encoded data removed]",
      "text/plain": [
       "<matplotlib.figure.Figure at 0x1c34bdf6a0>"
      ]
     },
     "metadata": {},
     "output_type": "display_data"
    }
   ],
   "source": [
    "plt.plot(history['loss'])\n",
    "plt.plot(history['val_loss'])\n",
    "plt.title('loss e validation loss x épocas de treino')\n",
    "plt.show()"
   ]
  },
  {
   "cell_type": "markdown",
   "metadata": {},
   "source": [
    "# Avaliando a performance do modelo"
   ]
  },
  {
   "cell_type": "code",
   "execution_count": 13,
   "metadata": {},
   "outputs": [
    {
     "name": "stdout",
     "output_type": "stream",
     "text": [
      "6286/6286 [==============================] - 95s 15ms/step\n"
     ]
    },
    {
     "data": {
      "text/plain": [
       "[0.825446755974072, 0.6376073771588103]"
      ]
     },
     "execution_count": 13,
     "metadata": {},
     "output_type": "execute_result"
    }
   ],
   "source": [
    "model.evaluate(X_test,y_test, batch_size=100)"
   ]
  },
  {
   "cell_type": "code",
   "execution_count": 14,
   "metadata": {},
   "outputs": [
    {
     "name": "stdout",
     "output_type": "stream",
     "text": [
      "6286/6286 [==============================] - 33s 5ms/step\n"
     ]
    },
    {
     "data": {
      "text/plain": [
       "[0.8254467641855933, 0.6376073815395527]"
      ]
     },
     "execution_count": 14,
     "metadata": {},
     "output_type": "execute_result"
    }
   ],
   "source": [
    "model.evaluate(X_test,y_test)"
   ]
  },
  {
   "cell_type": "code",
   "execution_count": 23,
   "metadata": {},
   "outputs": [
    {
     "name": "stderr",
     "output_type": "stream",
     "text": [
      "/anaconda3/lib/python3.6/site-packages/skimage/transform/_warps.py:84: UserWarning: The default mode, 'constant', will be changed to 'reflect' in skimage 0.15.\n",
      "  warn(\"The default mode, 'constant', will be changed to 'reflect' in \"\n"
     ]
    }
   ],
   "source": [
    "\n",
    "\n"
   ]
  },
  {
   "cell_type": "code",
   "execution_count": 40,
   "metadata": {},
   "outputs": [
    {
     "data": {
      "text/plain": [
       "array([1., 0., 0., ..., 1., 1., 0.], dtype=float32)"
      ]
     },
     "execution_count": 40,
     "metadata": {},
     "output_type": "execute_result"
    }
   ],
   "source": [
    "y_test[:,2]"
   ]
  },
  {
   "cell_type": "markdown",
   "metadata": {},
   "source": [
    "Fazendo linhas roc e as medias correspondentes"
   ]
  },
  {
   "cell_type": "code",
   "execution_count": 21,
   "metadata": {},
   "outputs": [],
   "source": [
    "def rocmedia(X_test, y_test, model):\n",
    "    \n",
    "    \n",
    "    fpr_grad=[]\n",
    "    \n",
    "    tpr_grad=[]\n",
    "    \n",
    "    thresh_grad=[]\n",
    "    \n",
    "    \n",
    "    fpr_meet=[]\n",
    "    \n",
    "    tpr_meet=[]\n",
    "    \n",
    "    thresh_meet=[]\n",
    "    \n",
    "    \n",
    "    fpr_pic=[]\n",
    "    \n",
    "    tpr_pic=[]\n",
    "    \n",
    "    thresh_pic=[]\n",
    "    \n",
    "    \n",
    "\n",
    "    \n",
    "    auc_grad=[]\n",
    "    \n",
    "    auc_meet=[]\n",
    "    \n",
    "    auc_pic=[]\n",
    "    \n",
    "    \n",
    "    for i in range(0,10):\n",
    "        \n",
    "        \n",
    "        X_test2, y_test2 = randomiza(X_test , y_test)\n",
    "        \n",
    "        y_pred_keras = model.predict(X_test2)\n",
    "        \n",
    "    \n",
    "\n",
    "        fpr_keras, tpr_keras, thresholds_keras = roc_curve(y_test2[:,0], y_pred_keras[:,0])\n",
    "        \n",
    "        \n",
    "        fpr_grad.append(fpr_keras)\n",
    "\n",
    "        tpr_grad.append(tpr_keras)\n",
    "        \n",
    "        thresh_grad.append(thresholds_keras)\n",
    "        \n",
    "        \n",
    "        fpr_keras, tpr_keras, thresholds_keras = roc_curve(y_test2[:,0], y_pred_keras[:,1])\n",
    "        \n",
    "        fpr_meet.append(fpr_keras)\n",
    "\n",
    "        tpr_meet.append(tpr_keras)\n",
    "        \n",
    "        thresh_meet.append(thresholds_keras)\n",
    "        \n",
    "        \n",
    "        fpr_keras, tpr_keras, thresholds_keras = roc_curve(y_test2[:,0], y_pred_keras[:,2])\n",
    "        \n",
    "        \n",
    "        fpr_pic.append(fpr_keras)\n",
    "\n",
    "        tpr_pic.append(tpr_keras)\n",
    "\n",
    "\n",
    "        thresh_pic.append(thresholds_keras)\n",
    "\n",
    "        \n",
    "        auc_grad.append( auc(fpr_grad[i], tpr_grad[i])  )\n",
    "        \n",
    "        auc_meet.append( auc(fpr_meet[i], tpr_meet[i]) )\n",
    "        \n",
    "        auc_pic.append( auc(fpr_pic[i], tpr_pic[i])   )\n",
    "        \n",
    "        \n",
    "  \n",
    "    return auc_grad, auc_meet, auc_pic, fpr_grad, tpr_grad, thresh_grad, fpr_meet, tpr_meet, thresh_meet, fpr_pic , tpr_pic, thresh_pic  "
   ]
  },
  {
   "cell_type": "code",
   "execution_count": 22,
   "metadata": {},
   "outputs": [],
   "source": [
    "auc_grad, auc_meet, auc_pic, fpr_grad, tpr_grad, thresh_grad, fpr_meet, tpr_meet, thresh_meet, fpr_pic , tpr_pic, thresh_pic   = rocmedia(X_test, y_test, model)"
   ]
  },
  {
   "cell_type": "code",
   "execution_count": 31,
   "metadata": {},
   "outputs": [
    {
     "data": {
      "image/png": "[encoded data removed]",
      "text/plain": [
       "<matplotlib.figure.Figure at 0x1c288b69e8>"
      ]
     },
     "metadata": {},
     "output_type": "display_data"
    }
   ],
   "source": [
    "plt.figure()\n",
    "lw = 2\n",
    "plt.plot(fpr_grad[3], tpr_grad[3], color='darkorange',\n",
    "         lw=lw, label='curva ROC (area = %0.2f)' % auc_grad[1])\n",
    "plt.plot([0, 1], [0, 1], color='navy', lw=lw, linestyle='--')\n",
    "plt.xlim([0.0, 1.0])\n",
    "plt.ylim([0.0, 1.05])\n",
    "plt.xlabel('False Positive Rate')\n",
    "plt.ylabel('True Positive Rate')\n",
    "plt.title('ROC para a segunda randomizacao da classe garduation')\n",
    "plt.legend(loc=\"lower right\")\n",
    "plt.show()"
   ]
  },
  {
   "cell_type": "code",
   "execution_count": 27,
   "metadata": {},
   "outputs": [],
   "source": [
    "media_fpr_grad=np.zeros(np.shape(fpr_grad[1]))\n",
    "media_fpr_meet=np.zeros(np.shape(fpr_meet[1]))\n",
    "media_fpr_pic=np.zeros(np.shape(fpr_pic[1]))\n",
    "\n",
    "media_tpr_grad=np.zeros(np.shape(tpr_grad[1]))\n",
    "media_tpr_meet=np.zeros(np.shape(tpr_meet[1]))\n",
    "media_tpr_pic=np.zeros(np.shape(tpr_pic[1]))\n",
    "\n",
    "for i in range(0,10):\n",
    "    \n",
    "    media_fpr_grad += fpr_grad[i]/10\n",
    "    media_fpr_meet += fpr_meet[i]/10\n",
    "    media_fpr_pic += fpr_pic[i]/10\n",
    "    \n",
    "    media_tpr_grad += tpr_grad[i]/10\n",
    "    media_tpr_meet += tpr_meet[i]/10\n",
    "    media_tpr_pic += tpr_pic[i]/10\n",
    "    \n"
   ]
  },
  {
   "cell_type": "code",
   "execution_count": 30,
   "metadata": {},
   "outputs": [
    {
     "data": {
      "image/png": "[encoded data removed]",
      "text/plain": [
       "<matplotlib.figure.Figure at 0x1c2897f3c8>"
      ]
     },
     "metadata": {},
     "output_type": "display_data"
    }
   ],
   "source": [
    "plt.figure()\n",
    "lw = 2\n",
    "plt.plot(media_fpr_grad, media_tpr_grad, color='darkorange',\n",
    "         lw=lw, label='curva ROC para a media' )\n",
    "plt.plot([0, 1], [0, 1], color='navy', lw=lw, linestyle='--')\n",
    "plt.xlim([0.0, 1.0])\n",
    "plt.ylim([0.0, 1.05])\n",
    "plt.xlabel('False Positive Rate')\n",
    "plt.ylabel('True Positive Rate')\n",
    "plt.title('media ROC para a segunda randomizacao da classe garduation')\n",
    "plt.legend(loc=\"lower right\")\n",
    "plt.show()"
   ]
  },
  {
   "cell_type": "code",
   "execution_count": null,
   "metadata": {},
   "outputs": [],
   "source": []
  },
  {
   "cell_type": "code",
   "execution_count": null,
   "metadata": {},
   "outputs": [],
   "source": []
  },
  {
   "cell_type": "code",
   "execution_count": null,
   "metadata": {},
   "outputs": [],
   "source": []
  },
  {
   "cell_type": "code",
   "execution_count": null,
   "metadata": {},
   "outputs": [],
   "source": []
  },
  {
   "cell_type": "code",
   "execution_count": null,
   "metadata": {},
   "outputs": [],
   "source": []
  },
  {
   "cell_type": "code",
   "execution_count": null,
   "metadata": {},
   "outputs": [],
   "source": []
  },
  {
   "cell_type": "code",
   "execution_count": null,
   "metadata": {},
   "outputs": [],
   "source": []
  },
  {
   "cell_type": "code",
   "execution_count": null,
   "metadata": {},
   "outputs": [],
   "source": []
  },
  {
   "cell_type": "code",
   "execution_count": 45,
   "metadata": {},
   "outputs": [],
   "source": []
  },
  {
   "cell_type": "code",
   "execution_count": null,
   "metadata": {},
   "outputs": [],
   "source": []
  },
  {
   "cell_type": "code",
   "execution_count": null,
   "metadata": {},
   "outputs": [],
   "source": []
  },
  {
   "cell_type": "code",
   "execution_count": null,
   "metadata": {},
   "outputs": [],
   "source": []
  },
  {
   "cell_type": "code",
   "execution_count": null,
   "metadata": {},
   "outputs": [],
   "source": []
  },
  {
   "cell_type": "code",
   "execution_count": null,
   "metadata": {},
   "outputs": [],
   "source": [
    "#model.compile(optimizer='adam', \n",
    "#              loss='categorical_crossentropy', \n",
    "#              metrics=['accuracy'])\n",
    "\n",
    "# Fit the model to training data \n",
    "#model.fit(train_data, train_labels, \n",
    "#          validation_split=0.2, \n",
    "#          epochs=3, batch_size=10)\n",
    "\n",
    "# Evaluate the model on test data\n",
    "#"
   ]
  },
  {
   "cell_type": "code",
   "execution_count": null,
   "metadata": {},
   "outputs": [],
   "source": [
    "#\n",
    "\n",
    "#for im in grad:\n",
    "#    a= np.shape(im)\n",
    "#    if a != (50,50,3):\n",
    "#        print(a)\n",
    "#        im = np.stack((im , np.zeros((50,50)),np.zeros((50,50))),axis=2)\n",
    "#        a= np.shape(im)\n",
    "#        print(a)\n",
    "#        break"
   ]
  },
  {
   "cell_type": "code",
   "execution_count": null,
   "metadata": {},
   "outputs": [],
   "source": [
    "     # media_fpr_grad += fpr_grad[i]\n",
    "        #media_tpr_grad += tpr_grad[i]\n",
    "        #media_thresh_grad += thresh_grad[i]\n",
    "    \n",
    "       # media_fpr_meet += fpr_meet[i]\n",
    "       # media_tpr_meet += tpr_meet[i]\n",
    "        #media_thresh_meet += thresh_meet[i]\n",
    "        \n",
    "       # media_fpr_pic += fpr_pic[i]\n",
    "      #  media_tpr_pic += tpr_pic[i]\n",
    "     #   media_thresh_pic += thresh_pic[i]\n",
    "    \n",
    "    \n",
    "    \n",
    "    #media_fpr_grad = media_fpr_grad/10\n",
    "    #media_tpr_grad =  media_tpr_grad/10\n",
    "    #media_thresh_grad = media_thresh_grad/10\n",
    "    \n",
    "    #media_fpr_meet = media_fpr_meet/10\n",
    "    #media_tpr_meet =  media_tpr_meet/10\n",
    "    #media_thresh_meet = media_thresh_meet/10\n",
    "    \n",
    "    #media_fpr_pic = media_fpr_pic/10\n",
    "    #media_tpr_pic =  media_tpr_pic/10\n",
    "    #media_thresh_pic = media_thresh_pic/10\n",
    "    \n",
    "\n",
    "        \n",
    "        \n",
    "    "
   ]
  }
 ],
 "metadata": {
  "kernelspec": {
   "display_name": "Python 3",
   "language": "python",
   "name": "python3"
  },
  "language_info": {
   "codemirror_mode": {
    "name": "ipython",
    "version": 3
   },
   "file_extension": ".py",
   "mimetype": "text/x-python",
   "name": "python",
   "nbconvert_exporter": "python",
   "pygments_lexer": "ipython3",
   "version": "3.6.4"
  }
 },
 "nbformat": 4,
 "nbformat_minor": 2
}
